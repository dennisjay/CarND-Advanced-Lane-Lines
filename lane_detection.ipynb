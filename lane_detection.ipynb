{
 "cells": [
  {
   "cell_type": "markdown",
   "metadata": {},
   "source": [
    "## Advanced Lane Finding Project\n",
    "\n",
    "The goals / steps of this project are the following:\n",
    "\n",
    "* Compute the camera calibration matrix and distortion coefficients given a set of chessboard images.\n",
    "* Apply a distortion correction to raw images.\n",
    "* Use color transforms, gradients, etc., to create a thresholded binary image.\n",
    "* Apply a perspective transform to rectify binary image (\"birds-eye view\").\n",
    "* Detect lane pixels and fit to find the lane boundary.\n",
    "* Determine the curvature of the lane and vehicle position with respect to center.\n",
    "* Warp the detected lane boundaries back onto the original image.\n",
    "* Output visual display of the lane boundaries and numerical estimation of lane curvature and vehicle position.\n",
    "\n",
    "---\n",
    "## Computation of Camera Parameters"
   ]
  },
  {
   "cell_type": "markdown",
   "metadata": {},
   "source": [
    "Use Chessboard calibration images to get object and imagepoints."
   ]
  },
  {
   "cell_type": "code",
   "execution_count": null,
   "metadata": {
    "collapsed": true
   },
   "outputs": [],
   "source": [
    "import numpy as np\n",
    "import cv2\n",
    "import glob\n",
    "import matplotlib.pyplot as plt\n",
    "\n",
    "# prepare object points, like (0,0,0), (1,0,0), (2,0,0) ....,(6,5,0)\n",
    "objp = np.zeros((6*9,3), np.float32)\n",
    "objp[:,:2] = np.mgrid[0:9,0:6].T.reshape(-1,2)\n",
    "\n",
    "# Arrays to store object points and image points from all the images.\n",
    "objpoints = [] # 3d points in real world space\n",
    "imgpoints = [] # 2d points in image plane.\n",
    "\n",
    "# Make a list of calibration images\n",
    "images = glob.glob( 'camera_cal/calibration*.jpg')\n",
    "\n",
    "# Step through the list and search for chessboard corners\n",
    "for fname in images:\n",
    "    img = cv2.imread(fname)\n",
    "    gray = cv2.cvtColor(img,cv2.COLOR_BGR2GRAY)\n",
    "\n",
    "    # Find the chessboard corners\n",
    "    ret, corners = cv2.findChessboardCorners(gray, (9,6),None)\n",
    "\n",
    "    # If found, add object points, image points\n",
    "    if ret == True:\n",
    "        objpoints.append(objp)\n",
    "        imgpoints.append(corners)"
   ]
  },
  {
   "cell_type": "markdown",
   "metadata": {},
   "source": [
    "Compute the calibration and display the distorted and undistorted image"
   ]
  },
  {
   "cell_type": "code",
   "execution_count": null,
   "metadata": {},
   "outputs": [],
   "source": [
    "import pickle\n",
    "%matplotlib inline\n",
    "\n",
    "# Test undistortion on an image\n",
    "img = cv2.imread('camera_cal/calibration1.jpg')\n",
    "img_size = (img.shape[1], img.shape[0])\n",
    "\n",
    "# Do camera calibration given object points and image points\n",
    "ret, mtx, dist, rvecs, tvecs = cv2.calibrateCamera(objpoints, imgpoints, img_size,None,None)\n",
    "\n",
    "dst = cv2.undistort(img, mtx, dist, None, mtx)\n",
    "cv2.imwrite('calibration_wide/test_undist.jpg',dst)\n",
    "\n",
    "# Save the camera calibration result for later use (we won't worry about rvecs / tvecs)\n",
    "np.save('camera_cal/calib_mtx', mtx )\n",
    "np.save('camera_cal/calib_dist', dist )\n",
    "\n",
    "# Visualize undistortion\n",
    "f, (ax1, ax2) = plt.subplots(1, 2, figsize=(20,10))\n",
    "ax1.imshow(img)\n",
    "ax1.set_title('Original Image', fontsize=30)\n",
    "ax2.imshow(dst)\n",
    "ax2.set_title('Undistorted Image', fontsize=30)"
   ]
  },
  {
   "cell_type": "markdown",
   "metadata": {},
   "source": [
    "## Test Calibration Paramters on straight line images"
   ]
  },
  {
   "cell_type": "code",
   "execution_count": null,
   "metadata": {},
   "outputs": [],
   "source": [
    "from lane_line_lib import LaneLineLib \n",
    "lib = LaneLineLib()"
   ]
  },
  {
   "cell_type": "code",
   "execution_count": null,
   "metadata": {},
   "outputs": [],
   "source": [
    "images = glob.glob( 'test_images/straight_lines*.jpg')\n",
    "\n",
    "# Step through the list and search for chessboard corners\n",
    "for fname in images:\n",
    "    img = cv2.imread( fname )\n",
    "    img = cv2.cvtColor( img, cv2.COLOR_BGR2RGB )\n",
    "    dst = lib.undistort(img)\n",
    "    \n",
    "    f, (ax1, ax2) = plt.subplots(1, 2, figsize=(20,10))\n",
    "    ax1.imshow(img)\n",
    "    ax1.set_title('Original Image', fontsize=30)\n",
    "    ax2.imshow(dst)\n",
    "    ax2.set_title('Undistorted Image', fontsize=30)"
   ]
  },
  {
   "cell_type": "markdown",
   "metadata": {
    "collapsed": true
   },
   "source": [
    "# Biniarize image to lane lines"
   ]
  },
  {
   "cell_type": "code",
   "execution_count": null,
   "metadata": {},
   "outputs": [],
   "source": [
    "images = glob.glob( 'test_images/straight_lines*.jpg')\n",
    "\n",
    "# Step through the list and search for chessboard corners\n",
    "for fname in images:\n",
    "    img = cv2.imread( fname )\n",
    "    dst = lib.undistort(img)\n",
    "    dst = lib.binarize(dst)\n",
    "    \n",
    "    img = cv2.cvtColor( img, cv2.COLOR_BGR2RGB )\n",
    "    f, (ax1, ax2) = plt.subplots(1, 2, figsize=(20,10))\n",
    "    ax1.imshow(img)\n",
    "    ax1.set_title('Original Image', fontsize=30)\n",
    "    ax2.imshow(dst)\n",
    "    ax2.set_title('Biniarized Image', fontsize=30)"
   ]
  },
  {
   "cell_type": "markdown",
   "metadata": {},
   "source": [
    "## Warp the image to bird view"
   ]
  },
  {
   "cell_type": "code",
   "execution_count": null,
   "metadata": {},
   "outputs": [],
   "source": [
    "src_pts = np.float32([[235, 697],[587,456],[700,456],[1061,690]])\n",
    "\n",
    "tl = np.float32([src_pts[0, 0], 0])\n",
    "tr = np.float32([src_pts[3, 0], 0])\n",
    "dst_pts = np.float32([src_pts[0], tl, tr, src_pts[3]])\n",
    "\n",
    "%matplotlib inline\n",
    "images = glob.glob( 'test_images/straight_lines*.jpg')\n",
    "\n",
    "for fname in images:\n",
    "    img = cv2.imread( fname )\n",
    "    src_img = lib.undistort(img)\n",
    "    \n",
    "    cv2.line(src_img, tuple(src_pts[0]), tuple(src_pts[1]), color=[255,0,0], thickness=2)\n",
    "    cv2.line(src_img, tuple(src_pts[1]), tuple(src_pts[2]), color=[255,0,0], thickness=2)\n",
    "    cv2.line(src_img, tuple(src_pts[2]), tuple(src_pts[3]), color=[255,0,0], thickness=2)\n",
    "    cv2.line(src_img, tuple(src_pts[3]), tuple(src_pts[0]), color=[255,0,0], thickness=2)\n",
    "    \n",
    "    dst_img = lib.warp( src_img, src_pts, dst_pts )\n",
    "    \n",
    "    src_img = cv2.cvtColor( src_img, cv2.COLOR_BGR2RGB )\n",
    "    dst_img = cv2.cvtColor( dst_img, cv2.COLOR_BGR2RGB )\n",
    "    f, (ax1, ax2) = plt.subplots(1, 2, figsize=(20,10))\n",
    "    ax1.imshow(src_img)\n",
    "    ax1.set_title('Original Image', fontsize=30)\n",
    "    ax2.imshow(dst_img)\n",
    "    ax2.set_title('Warped Image', fontsize=30)\n",
    "\n"
   ]
  },
  {
   "cell_type": "markdown",
   "metadata": {},
   "source": [
    "Test the warping on curvature images"
   ]
  },
  {
   "cell_type": "code",
   "execution_count": null,
   "metadata": {},
   "outputs": [],
   "source": [
    "%matplotlib inline\n",
    "images = glob.glob( 'test_images/test*.jpg')\n",
    "\n",
    "for fname in images:\n",
    "    img = cv2.imread( fname )\n",
    "    src_img = lib.undistort(img)\n",
    "    dst_img = lib.warp( src_img, src_pts, dst_pts )\n",
    "    dst_img_bin = lib.binarize( dst_img )\n",
    "    \n",
    "    src_img = cv2.cvtColor( src_img, cv2.COLOR_BGR2RGB )\n",
    "    dst_img = cv2.cvtColor( dst_img, cv2.COLOR_BGR2RGB )\n",
    "    f, (ax1, ax2, ax3) = plt.subplots(1, 3, figsize=(10,5))\n",
    "    ax1.imshow(src_img)\n",
    "    ax1.set_title('Original Image', fontsize=12)\n",
    "    ax2.imshow(dst_img)\n",
    "    ax2.set_title('Warped Image', fontsize=12)\n",
    "    ax3.imshow(dst_img_bin)\n",
    "    ax3.set_title('Binarized Image', fontsize=12)"
   ]
  },
  {
   "cell_type": "markdown",
   "metadata": {},
   "source": [
    "## Histogram of one binarized image"
   ]
  },
  {
   "cell_type": "code",
   "execution_count": null,
   "metadata": {},
   "outputs": [],
   "source": [
    "img = cv2.imread( 'test_images/test2.jpg' )\n",
    "\n",
    "src_img = lib.undistort(img)\n",
    "dst_img = lib.warp( src_img, src_pts, dst_pts )\n",
    "dst_img_bin = lib.binarize( dst_img )\n",
    "\n",
    "histogram = np.sum(dst_img_bin[dst_img_bin.shape[0] // 2:, :, 0], axis=0)\n",
    "plt.figure(figsize=(8, 3))\n",
    "plt.plot(histogram)\n",
    "plt.show()\n",
    "\n",
    "plt.imshow(dst_img_bin)\n",
    "plt.show()"
   ]
  },
  {
   "cell_type": "markdown",
   "metadata": {},
   "source": [
    "Detect Line and display"
   ]
  },
  {
   "cell_type": "code",
   "execution_count": null,
   "metadata": {},
   "outputs": [],
   "source": [
    "out_img, left_fitx, right_fitx = lib.extract_lane(dst_img_bin)\n",
    "\n",
    "plt.imshow(out_img)\n",
    "plt.show()"
   ]
  },
  {
   "cell_type": "markdown",
   "metadata": {},
   "source": [
    "## Create Pipeline and execute"
   ]
  },
  {
   "cell_type": "code",
   "execution_count": null,
   "metadata": {},
   "outputs": [],
   "source": [
    "def pipeline(src_img):\n",
    "    undistored = lib.undistort(src_img)\n",
    "    warped = lib.warp( undistored, src_pts, dst_pts )\n",
    "    binarized = lib.binarize( warped )\n",
    "    _, fitx_left, fitx_right = lib.extract_lane(binarized)\n",
    "    filled_image = lib.fill_lane_lines(binarized, fitx_left, fitx_right)\n",
    "    unwarped_lanes = lib.warp( filled_image, dst_pts, src_pts )\n",
    "    return cv2.addWeighted(undistored, 1, unwarped_lanes, 0.3, 0)\n",
    "    \n",
    "img = cv2.imread( 'test_images/test6.jpg' )\n",
    "img = cv2.cvtColor(img,cv2.COLOR_BGR2RGB)\n",
    "plt.imshow( pipeline(img)) \n",
    "plt.show()"
   ]
  },
  {
   "cell_type": "markdown",
   "metadata": {},
   "source": [
    "## Execute Pipeline on video"
   ]
  },
  {
   "cell_type": "code",
   "execution_count": null,
   "metadata": {},
   "outputs": [],
   "source": [
    "from moviepy.editor import VideoFileClip\n",
    "\n",
    "output_file = './processed_project_video.mp4'\n",
    "input_file = './project_video.mp4'\n",
    "\n",
    "clip = VideoFileClip(input_file)\n",
    "out_clip = clip.fl_image(pipeline) \n",
    "out_clip.write_videofile(output_file, audio=False)"
   ]
  },
  {
   "cell_type": "code",
   "execution_count": null,
   "metadata": {
    "collapsed": true
   },
   "outputs": [],
   "source": []
  }
 ],
 "metadata": {
  "anaconda-cloud": {},
  "kernelspec": {
   "display_name": "Python 3",
   "language": "python",
   "name": "python3"
  },
  "language_info": {
   "codemirror_mode": {
    "name": "ipython",
    "version": 3
   },
   "file_extension": ".py",
   "mimetype": "text/x-python",
   "name": "python",
   "nbconvert_exporter": "python",
   "pygments_lexer": "ipython3",
   "version": "3.6.1"
  }
 },
 "nbformat": 4,
 "nbformat_minor": 1
}
